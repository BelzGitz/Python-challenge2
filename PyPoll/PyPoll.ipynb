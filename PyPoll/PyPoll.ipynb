{
 "cells": [
  {
   "cell_type": "code",
   "execution_count": 4,
   "metadata": {},
   "outputs": [],
   "source": [
    "import os\n",
    "import csv"
   ]
  },
  {
   "cell_type": "code",
   "execution_count": 5,
   "metadata": {},
   "outputs": [],
   "source": [
    "csvpath=os.path.join('Resources', 'election_data.csv')"
   ]
  },
  {
   "cell_type": "code",
   "execution_count": 6,
   "metadata": {},
   "outputs": [
    {
     "data": {
      "text/plain": [
       "'Resources\\\\election_data.csv'"
      ]
     },
     "execution_count": 6,
     "metadata": {},
     "output_type": "execute_result"
    }
   ],
   "source": [
    "csvpath"
   ]
  },
  {
   "cell_type": "code",
   "execution_count": 7,
   "metadata": {},
   "outputs": [
    {
     "name": "stdout",
     "output_type": "stream",
     "text": [
      "{'Khan': 0, 'Li': 0, \"O'Tooley\": 0, 'Correy': 0}\n"
     ]
    }
   ],
   "source": [
    "# create a dictionary of candidates\n",
    "number_of_votes = 0\n",
    "candidates={'Khan':number_of_votes,\n",
    "            'Li':number_of_votes,\n",
    "            \"O'Tooley\":number_of_votes,\n",
    "            'Correy':number_of_votes          \n",
    "           }\n",
    "print(candidates)"
   ]
  },
  {
   "cell_type": "code",
   "execution_count": 8,
   "metadata": {},
   "outputs": [
    {
     "name": "stdout",
     "output_type": "stream",
     "text": [
      "3521001\n",
      "{'Khan': 2218231, 'Li': 492940, \"O'Tooley\": 105630, 'Correy': 704200}\n"
     ]
    }
   ],
   "source": [
    "with open (csvpath) as csvfile:\n",
    "    csvreader=csv.reader(csvfile,delimiter=',')\n",
    "    header = next(csvreader)\n",
    "    #   print(csvreader)\n",
    "    i = 0   # For debug only \n",
    "    total_vote = 0\n",
    "    for row in csvreader:\n",
    " #       print(row)\n",
    "        candidates[row[2]]+=1\n",
    "        total_vote += 1\n",
    "        i += 1\n",
    " #       if i > 100:\n",
    "  #          break\n",
    "    print(total_vote)  \n",
    "    print(candidates)"
   ]
  },
  {
   "cell_type": "code",
   "execution_count": 10,
   "metadata": {},
   "outputs": [
    {
     "name": "stdout",
     "output_type": "stream",
     "text": [
      "Total votes 3521001\n",
      "{'Khan': 2218231, 'Li': 492940, \"O'Tooley\": 105630, 'Correy': 704200}\n"
     ]
    }
   ],
   "source": [
    "print(f'Total votes {total_vote}')\n",
    "print(f'{candidates}')"
   ]
  },
  {
   "cell_type": "code",
   "execution_count": 14,
   "metadata": {},
   "outputs": [
    {
     "name": "stdout",
     "output_type": "stream",
     "text": [
      "Khan 63.0\n",
      "Li 14.0\n",
      "O'Tooley 3.0\n",
      "Correy 20.0\n"
     ]
    }
   ],
   "source": [
    "#calculating candidates percentage votes\n",
    "percentage = {}\n",
    "for cand_name in candidates.keys():\n",
    "    percentage[cand_name]=round (candidates[cand_name] / total_vote * 100,0)\n",
    "    print(cand_name,percentage[cand_name])"
   ]
  },
  {
   "cell_type": "code",
   "execution_count": 13,
   "metadata": {},
   "outputs": [
    {
     "name": "stdout",
     "output_type": "stream",
     "text": [
      "Khan 2218231 63.0\n",
      "Li 492940 14.0\n",
      "O'Tooley 105630 3.0\n",
      "Correy 704200 20.0\n"
     ]
    }
   ],
   "source": [
    "#calculating candidates votes\n",
    "candidates.keys()\n",
    "for cand_name in candidates.keys():\n",
    "    print(cand_name, candidates[cand_name],round (candidates[cand_name] / total_vote * 100,0))"
   ]
  },
  {
   "cell_type": "code",
   "execution_count": 8,
   "metadata": {},
   "outputs": [
    {
     "name": "stdout",
     "output_type": "stream",
     "text": [
      "Khan 2218231\n",
      "Li 492940\n",
      "O'Tooley 105630\n",
      "Correy 704200\n"
     ]
    }
   ],
   "source": [
    "#calculating candidates votes\n",
    "candidates.keys()\n",
    "for cand_name in candidates.keys():\n",
    "    print(cand_name, candidates[cand_name])"
   ]
  },
  {
   "cell_type": "code",
   "execution_count": 16,
   "metadata": {},
   "outputs": [
    {
     "name": "stdout",
     "output_type": "stream",
     "text": [
      "Khan\n"
     ]
    }
   ],
   "source": [
    "#winner of the election\n",
    "win_vote = 0\n",
    "winner = \"\"\n",
    "for cand_name in candidates.keys():\n",
    "    if candidates[cand_name] > win_vote :\n",
    "        win_vote = candidates[cand_name]\n",
    "        cand_name, candidates[cand_name] / total_vote * 100\n",
    "        winner = cand_name\n",
    "print(winner)    "
   ]
  },
  {
   "cell_type": "code",
   "execution_count": 17,
   "metadata": {},
   "outputs": [
    {
     "name": "stdout",
     "output_type": "stream",
     "text": [
      "Total Votes:3521001\n",
      "candidate votes: {'Khan': 2218231, 'Li': 492940, \"O'Tooley\": 105630, 'Correy': 704200}\n",
      "percentage votes:{'Khan': 63.0, 'Li': 14.0, \"O'Tooley\": 3.0, 'Correy': 20.0}\n",
      "Winner :Khan\n"
     ]
    }
   ],
   "source": [
    "# def (print analysis results):\n",
    "\n",
    "# print Election Results\n",
    "\n",
    "print(f'Total Votes:{total_vote}')\n",
    "print(f'candidate votes: {candidates}')\n",
    "print(f'percentage votes:{percentage}')\n",
    "print(f\"Winner :{winner}\")"
   ]
  },
  {
   "cell_type": "code",
   "execution_count": 18,
   "metadata": {},
   "outputs": [],
   "source": [
    "with open(\"analysis/output.txt\",\"w\") as text_file:\n",
    "    text_file.write(f'\\nTotal Votes:{total_vote}\\n')\n",
    "    text_file.write(f'candidate votes: {candidates}\\n')\n",
    "    text_file.write(f'percentage votes:{percentage}\\n')\n",
    "    text_file.write(f\"Winner :{winner}\\n\")    "
   ]
  },
  {
   "cell_type": "code",
   "execution_count": null,
   "metadata": {},
   "outputs": [],
   "source": []
  }
 ],
 "metadata": {
  "kernelspec": {
   "display_name": "Python 3",
   "language": "python",
   "name": "python3"
  },
  "language_info": {
   "codemirror_mode": {
    "name": "ipython",
    "version": 3
   },
   "file_extension": ".py",
   "mimetype": "text/x-python",
   "name": "python",
   "nbconvert_exporter": "python",
   "pygments_lexer": "ipython3",
   "version": "3.7.6"
  }
 },
 "nbformat": 4,
 "nbformat_minor": 4
}
