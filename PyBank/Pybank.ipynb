{
 "cells": [
  {
   "cell_type": "code",
   "execution_count": 9,
   "metadata": {},
   "outputs": [],
   "source": [
    "import os\n",
    "import csv"
   ]
  },
  {
   "cell_type": "code",
   "execution_count": 10,
   "metadata": {},
   "outputs": [],
   "source": [
    "# path to collect data from the resources folder\n",
    "budget_csv=os.path.join(\"Resources\",\"budget_data.csv\")"
   ]
  },
  {
   "cell_type": "code",
   "execution_count": 11,
   "metadata": {},
   "outputs": [
    {
     "data": {
      "text/plain": [
       "'Resources\\\\budget_data.csv'"
      ]
     },
     "execution_count": 11,
     "metadata": {},
     "output_type": "execute_result"
    }
   ],
   "source": [
    "budget_csv"
   ]
  },
  {
   "cell_type": "code",
   "execution_count": 12,
   "metadata": {},
   "outputs": [],
   "source": [
    "# Define variables.\n",
    "total_months = 1\n",
    "total_revenue = 0\n",
    "previous_revenue = 0\n",
    "month_to_month_change = float(0)\n",
    "\n",
    "changes=[]\n",
    "\n",
    "months = []\n",
    "\n",
    "# Read the contents of CSV into memory.\n",
    "with open(budget_csv) as file:\n",
    "    csvreader = csv.reader(file)\n",
    "#     print(csvreader)\n",
    "\n",
    "    # Read the header row.\n",
    "    header = next(csvreader)\n",
    "    first_row=next(csvreader)\n",
    "    previous_revenue = int(first_row[1])\n",
    "    total_revenue = total_revenue + int(first_row[1])\n",
    "#     print(first_month)\n",
    "#     print(header)\n",
    "    # Loop (Iterate) through CSVReader.\n",
    "    for row in csvreader:\n",
    "#         print(row,previous_month)\n",
    "#         print(row[0], int(row[1]))\n",
    "        # Calculate the total number of months/rows.\n",
    "        total_months = total_months + 1\n",
    "        \n",
    "#         print(int(row[1]))\n",
    "        total_revenue = total_revenue + float(row[1])\n",
    "        # Month-to-month change is calculated as: New - Old, or Current - Previous.\n",
    "        month_to_month_change= float(row[1]) - previous_revenue\n",
    "#         print(month_to_month_change)\n",
    "        changes.append(month_to_month_change)\n",
    "        months.append(row[0])\n",
    "        # Update previous revenue.\n",
    "        previous_revenue = float(row[1])\n",
    "   # print(changes)\n",
    "   # print(months)"
   ]
  },
  {
   "cell_type": "code",
   "execution_count": 13,
   "metadata": {},
   "outputs": [],
   "source": [
    "#calculate average month to month change\n",
    "avg_change = sum(changes)/(total_months -1)\n",
    "#print(avg_change)\n",
    "#print maximum and minimum profit changes\n",
    "#print(\"greatest increase in profits\",max(changes))\n",
    "#print(\"greatest decrease in profits\",min(changes))"
   ]
  },
  {
   "cell_type": "code",
   "execution_count": 14,
   "metadata": {},
   "outputs": [],
   "source": [
    "#greatest increase date\n",
    "#print(months[24])"
   ]
  },
  {
   "cell_type": "code",
   "execution_count": 15,
   "metadata": {},
   "outputs": [],
   "source": [
    "#greatest decrease date\n",
    "#print(months[43])"
   ]
  },
  {
   "cell_type": "code",
   "execution_count": 16,
   "metadata": {},
   "outputs": [
    {
     "name": "stdout",
     "output_type": "stream",
     "text": [
      "Total Months:86\n",
      "Total Revenue:$38382578.0\n",
      "Average Change:$-2315.1176470588234\n",
      "Greatest increase in profits: Feb-2012 ($1926159.0)\n",
      "Greatest decrease in profits: Sep-2013 ($-2196167.0)\n"
     ]
    }
   ],
   "source": [
    "#def (print analysis result):\n",
    "\n",
    "#print()\n",
    "\n",
    "#print financial Analysis\n",
    "\n",
    "print(f'Total Months:{total_months}')\n",
    "print(f'Total Revenue:${total_revenue}')\n",
    "print(f'Average Change:${avg_change}')\n",
    "print(f\"Greatest increase in profits: {(months[24])} (${max(changes)})\")\n",
    "print(f\"Greatest decrease in profits: {(months[43])} (${min(changes)})\")"
   ]
  },
  {
   "cell_type": "code",
   "execution_count": 17,
   "metadata": {},
   "outputs": [],
   "source": [
    "with open(\"analysis/output.txt\",\"w\") as text_file:\n",
    "    text_file.write(f'\\nTotal Months:{total_months}\\n')\n",
    "    text_file.write(f'Total Revenue:${total_revenue}\\n')\n",
    "    text_file.write(f'Average Change:${avg_change}\\n')\n",
    "    text_file.write(f\"Greatest increase in profits: {(months[24])} (${max(changes)})\\n\")\n",
    "    text_file.write(f\"Greatest decrease in profits: {(months[43])} (${min(changes)})\\n\")"
   ]
  },
  {
   "cell_type": "code",
   "execution_count": null,
   "metadata": {},
   "outputs": [],
   "source": []
  }
 ],
 "metadata": {
  "kernelspec": {
   "display_name": "Python 3",
   "language": "python",
   "name": "python3"
  },
  "language_info": {
   "codemirror_mode": {
    "name": "ipython",
    "version": 3
   },
   "file_extension": ".py",
   "mimetype": "text/x-python",
   "name": "python",
   "nbconvert_exporter": "python",
   "pygments_lexer": "ipython3",
   "version": "3.7.6"
  }
 },
 "nbformat": 4,
 "nbformat_minor": 4
}
